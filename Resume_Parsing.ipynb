{
  "nbformat": 4,
  "nbformat_minor": 0,
  "metadata": {
    "colab": {
      "name": "Resume Parsing.ipynb",
      "provenance": []
    },
    "kernelspec": {
      "name": "python3",
      "display_name": "Python 3"
    },
    "language_info": {
      "name": "python"
    }
  },
  "cells": [
    {
      "cell_type": "code",
      "metadata": {
        "colab": {
          "base_uri": "https://localhost:8080/"
        },
        "id": "9fINCC6Y1y98",
        "outputId": "4905f925-70ce-4679-babd-4616c2333469"
      },
      "source": [
        "!pip install pdfminer"
      ],
      "execution_count": 2,
      "outputs": [
        {
          "output_type": "stream",
          "name": "stdout",
          "text": [
            "Collecting pdfminer\n",
            "  Downloading pdfminer-20191125.tar.gz (4.2 MB)\n",
            "\u001b[K     |████████████████████████████████| 4.2 MB 8.4 MB/s \n",
            "\u001b[?25hCollecting pycryptodome\n",
            "  Downloading pycryptodome-3.11.0-cp35-abi3-manylinux2010_x86_64.whl (1.9 MB)\n",
            "\u001b[K     |████████████████████████████████| 1.9 MB 27.1 MB/s \n",
            "\u001b[?25hBuilding wheels for collected packages: pdfminer\n",
            "  Building wheel for pdfminer (setup.py) ... \u001b[?25l\u001b[?25hdone\n",
            "  Created wheel for pdfminer: filename=pdfminer-20191125-py3-none-any.whl size=6140100 sha256=11db3fa4524c805401512a422eaa941a71df3aefaac89bc5159af6b0a6c5de2f\n",
            "  Stored in directory: /root/.cache/pip/wheels/e3/5e/f4/d210b46e9e4a28229ea070ed5b3efa92c3c29d1a7918dd4b97\n",
            "Successfully built pdfminer\n",
            "Installing collected packages: pycryptodome, pdfminer\n",
            "Successfully installed pdfminer-20191125 pycryptodome-3.11.0\n"
          ]
        }
      ]
    },
    {
      "cell_type": "code",
      "metadata": {
        "id": "PQUDb4KV1rqY"
      },
      "source": [
        "import spacy #nlp\n",
        "import pdfminer #pdf2tx\n",
        "import re #regex\n",
        "import os #file manip\n",
        "import pandas as pd #csv - tabular"
      ],
      "execution_count": 18,
      "outputs": []
    },
    {
      "cell_type": "code",
      "metadata": {
        "id": "nQSy_qJX3kH8"
      },
      "source": [
        "import pdf2txt"
      ],
      "execution_count": 22,
      "outputs": []
    },
    {
      "cell_type": "code",
      "metadata": {
        "id": "8czyyDmV1sfS"
      },
      "source": [
        "def convert_pdf(f):\n",
        "    output_filename = os.path.basename(os.path.splitext(f)[0]) + \".txt\"\n",
        "    output_filepath = os.path.join(\"output/txt/\", output_filename)\n",
        "    pdf2txt.main(args=[f, \"--outfile\", output_filepath]) #pdf to txt and save it in the given location\n",
        "    print(output_filepath + \" saved successfully!!!\")\n",
        "    return open(output_filepath).read()"
      ],
      "execution_count": 23,
      "outputs": []
    },
    {
      "cell_type": "code",
      "metadata": {
        "id": "MW3Udgg21uH7"
      },
      "source": [
        "nlp = spacy.load(\"en_core_web_sm\")\n"
      ],
      "execution_count": 5,
      "outputs": []
    },
    {
      "cell_type": "code",
      "metadata": {
        "id": "8sKUTdsM165D"
      },
      "source": [
        "result_dict = {'name': [], 'phone': [], 'email': [], 'skills': []} \n",
        "names = []\n",
        "phones = []\n",
        "emails = []\n",
        "skills = []"
      ],
      "execution_count": 6,
      "outputs": []
    },
    {
      "cell_type": "code",
      "metadata": {
        "id": "xj19gh8518rZ"
      },
      "source": [
        "def parse_content(text):\n",
        "    skillset = re.compile(\"python|java|sql|hadoop|tableau\")\n",
        "    phone_num = re.compile(\n",
        "        \"(\\d{3}[-\\.\\s]??\\d{3}[-\\.\\s]??\\d{4}|\\(\\d{3}\\)\\s*\\d{3}[-\\.\\s]??\\d{4}|\\d{3}[-\\.\\s]??\\d{4})\"\n",
        "    )\n",
        "    doc = nlp(text)\n",
        "    name = [entity.text for entity in doc.ents if entity.label_ is \"PERSON\"][0]\n",
        "    print(name)\n",
        "    email = [word for word in doc if word.like_email == True][0]\n",
        "    print(email)\n",
        "    phone = str(re.findall(phone_num, text.lower()))\n",
        "    skills_list = re.findall(skillset, text.lower())\n",
        "    unique_skills_list = str(set(skills_list))\n",
        "    names.append(name)\n",
        "    emails.append(email)\n",
        "    phones.append(phone)\n",
        "    skills.append(unique_skills_list)\n",
        "    print(\"Extraction completed successfully!!!\")"
      ],
      "execution_count": 7,
      "outputs": []
    },
    {
      "cell_type": "code",
      "metadata": {
        "colab": {
          "base_uri": "https://localhost:8080/",
          "height": 657
        },
        "id": "L6F3dmYj2w4D",
        "outputId": "c073e85c-cee3-48db-bc5d-1bd116679097"
      },
      "source": [
        "!pip install pdf2txt"
      ],
      "execution_count": 11,
      "outputs": [
        {
          "output_type": "stream",
          "name": "stdout",
          "text": [
            "Collecting pdf2txt\n",
            "  Downloading pdf2txt-0.7.3-py3-none-any.whl (75 kB)\n",
            "\u001b[?25l\r\u001b[K     |████▍                           | 10 kB 24.1 MB/s eta 0:00:01\r\u001b[K     |████████▊                       | 20 kB 29.9 MB/s eta 0:00:01\r\u001b[K     |█████████████                   | 30 kB 22.4 MB/s eta 0:00:01\r\u001b[K     |█████████████████▍              | 40 kB 15.9 MB/s eta 0:00:01\r\u001b[K     |█████████████████████▊          | 51 kB 8.0 MB/s eta 0:00:01\r\u001b[K     |██████████████████████████      | 61 kB 8.5 MB/s eta 0:00:01\r\u001b[K     |██████████████████████████████▍ | 71 kB 8.1 MB/s eta 0:00:01\r\u001b[K     |████████████████████████████████| 75 kB 2.9 MB/s \n",
            "\u001b[?25hRequirement already satisfied: Pillow in /usr/local/lib/python3.7/dist-packages (from pdf2txt) (7.1.2)\n",
            "Requirement already satisfied: pandas in /usr/local/lib/python3.7/dist-packages (from pdf2txt) (1.1.5)\n",
            "Collecting pdfminer.six\n",
            "  Downloading pdfminer.six-20211012-py3-none-any.whl (5.6 MB)\n",
            "\u001b[K     |████████████████████████████████| 5.6 MB 10.5 MB/s \n",
            "\u001b[?25hCollecting PyPDF2\n",
            "  Downloading PyPDF2-1.26.0.tar.gz (77 kB)\n",
            "\u001b[K     |████████████████████████████████| 77 kB 6.6 MB/s \n",
            "\u001b[?25hCollecting pdf2image\n",
            "  Downloading pdf2image-1.16.0-py3-none-any.whl (10 kB)\n",
            "Requirement already satisfied: numpy>=1.15.4 in /usr/local/lib/python3.7/dist-packages (from pandas->pdf2txt) (1.19.5)\n",
            "Requirement already satisfied: python-dateutil>=2.7.3 in /usr/local/lib/python3.7/dist-packages (from pandas->pdf2txt) (2.8.2)\n",
            "Requirement already satisfied: pytz>=2017.2 in /usr/local/lib/python3.7/dist-packages (from pandas->pdf2txt) (2018.9)\n",
            "Requirement already satisfied: six>=1.5 in /usr/local/lib/python3.7/dist-packages (from python-dateutil>=2.7.3->pandas->pdf2txt) (1.15.0)\n",
            "Collecting cryptography\n",
            "  Downloading cryptography-35.0.0-cp36-abi3-manylinux_2_24_x86_64.whl (3.5 MB)\n",
            "\u001b[K     |████████████████████████████████| 3.5 MB 40.2 MB/s \n",
            "\u001b[?25hRequirement already satisfied: chardet in /usr/local/lib/python3.7/dist-packages (from pdfminer.six->pdf2txt) (3.0.4)\n",
            "Requirement already satisfied: cffi>=1.12 in /usr/local/lib/python3.7/dist-packages (from cryptography->pdfminer.six->pdf2txt) (1.15.0)\n",
            "Requirement already satisfied: pycparser in /usr/local/lib/python3.7/dist-packages (from cffi>=1.12->cryptography->pdfminer.six->pdf2txt) (2.20)\n",
            "Building wheels for collected packages: PyPDF2\n",
            "  Building wheel for PyPDF2 (setup.py) ... \u001b[?25l\u001b[?25hdone\n",
            "  Created wheel for PyPDF2: filename=PyPDF2-1.26.0-py3-none-any.whl size=61101 sha256=e2cac3687d8c866d3de9ad9292708c322dea917237086ecfc7b34a6cde0fd3a4\n",
            "  Stored in directory: /root/.cache/pip/wheels/80/1a/24/648467ade3a77ed20f35cfd2badd32134e96dd25ca811e64b3\n",
            "Successfully built PyPDF2\n",
            "Installing collected packages: cryptography, PyPDF2, pdfminer.six, pdf2image, pdf2txt\n",
            "Successfully installed PyPDF2-1.26.0 cryptography-35.0.0 pdf2image-1.16.0 pdf2txt-0.7.3 pdfminer.six-20211012\n"
          ]
        },
        {
          "output_type": "display_data",
          "data": {
            "application/vnd.colab-display-data+json": {
              "pip_warning": {
                "packages": [
                  "pdfminer"
                ]
              }
            }
          },
          "metadata": {}
        }
      ]
    },
    {
      "cell_type": "code",
      "metadata": {
        "colab": {
          "base_uri": "https://localhost:8080/"
        },
        "id": "Zhihv3h63B6a",
        "outputId": "35ef7c49-88fe-4358-a74d-5a9418492093"
      },
      "source": [
        "import os\n",
        "\n",
        "file_path = \"******\"\n",
        "\n",
        "# writing data in variable\n",
        "text = os.popen(\"pdftotext {}\".format(file_path)).read()\n",
        "\n",
        "# writing data in file\n",
        "os.system(\"pdftotext {} {}\".format(file_path, \"data.txt\"))"
      ],
      "execution_count": 14,
      "outputs": [
        {
          "output_type": "execute_result",
          "data": {
            "text/plain": [
              "32512"
            ]
          },
          "metadata": {},
          "execution_count": 14
        }
      ]
    },
    {
      "cell_type": "code",
      "metadata": {
        "colab": {
          "base_uri": "https://localhost:8080/"
        },
        "id": "lYIriWMU1_s7",
        "outputId": "56cc90d5-619c-4cab-c6f4-ac91b1539871"
      },
      "source": [
        "for file in os.listdir('/content/resumes/'):\n",
        "    if file.endswith('.pdf'):\n",
        "        print('Reading.....' + file)\n",
        "        txt = convert_pdf(os.path.join('/content/resumes/',file))\n",
        "        parse_content(txt)"
      ],
      "execution_count": 26,
      "outputs": [
        {
          "output_type": "stream",
          "name": "stdout",
          "text": [
            "Reading.....Mostafa_Nabieh_Mourad_Resume.pdf\n",
            "output/txt/Mostafa_Nabieh_Mourad_Resume.txt saved successfully!!!\n",
            "Mostafa Nabieh Mourad\n",
            "eng.mostafanabieh@gmail.com\n",
            "Extraction completed successfully!!!\n"
          ]
        }
      ]
    },
    {
      "cell_type": "code",
      "metadata": {
        "id": "iFUJqtxk2BrF"
      },
      "source": [
        "\n",
        "result_dict['name'] = names\n",
        "result_dict['phone'] = phones\n",
        "result_dict['email'] = emails\n",
        "result_dict['skills'] = skills\n"
      ],
      "execution_count": 27,
      "outputs": []
    },
    {
      "cell_type": "code",
      "metadata": {
        "colab": {
          "base_uri": "https://localhost:8080/",
          "height": 110
        },
        "id": "ThRpPuBP4gDT",
        "outputId": "00a25145-1075-4b3d-8a15-4db2f66a29c6"
      },
      "source": [
        "\n",
        "result_df = pd.DataFrame(result_dict)\n",
        "result_df"
      ],
      "execution_count": 28,
      "outputs": [
        {
          "output_type": "execute_result",
          "data": {
            "text/html": [
              "<div>\n",
              "<style scoped>\n",
              "    .dataframe tbody tr th:only-of-type {\n",
              "        vertical-align: middle;\n",
              "    }\n",
              "\n",
              "    .dataframe tbody tr th {\n",
              "        vertical-align: top;\n",
              "    }\n",
              "\n",
              "    .dataframe thead th {\n",
              "        text-align: right;\n",
              "    }\n",
              "</style>\n",
              "<table border=\"1\" class=\"dataframe\">\n",
              "  <thead>\n",
              "    <tr style=\"text-align: right;\">\n",
              "      <th></th>\n",
              "      <th>name</th>\n",
              "      <th>phone</th>\n",
              "      <th>email</th>\n",
              "      <th>skills</th>\n",
              "    </tr>\n",
              "  </thead>\n",
              "  <tbody>\n",
              "    <tr>\n",
              "      <th>0</th>\n",
              "      <td>Mostafa Nabieh Mourad</td>\n",
              "      <td>['1124283942']</td>\n",
              "      <td>eng.mostafanabieh@gmail.com</td>\n",
              "      <td>{'hadoop', 'sql', 'python'}</td>\n",
              "    </tr>\n",
              "    <tr>\n",
              "      <th>1</th>\n",
              "      <td>Mostafa Nabieh Mourad</td>\n",
              "      <td>['1124283942']</td>\n",
              "      <td>eng.mostafanabieh@gmail.com</td>\n",
              "      <td>{'hadoop', 'sql', 'python'}</td>\n",
              "    </tr>\n",
              "  </tbody>\n",
              "</table>\n",
              "</div>"
            ],
            "text/plain": [
              "                    name  ...                       skills\n",
              "0  Mostafa Nabieh Mourad  ...  {'hadoop', 'sql', 'python'}\n",
              "1  Mostafa Nabieh Mourad  ...  {'hadoop', 'sql', 'python'}\n",
              "\n",
              "[2 rows x 4 columns]"
            ]
          },
          "metadata": {},
          "execution_count": 28
        }
      ]
    }
  ]
}